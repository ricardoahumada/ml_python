{
 "cells": [
  {
   "cell_type": "markdown",
   "id": "75e654ad",
   "metadata": {},
   "source": [
    "*ref: https://inria.github.io/scikit-learn-mooc/predictive_modeling_pipeline/02_numerical_pipeline_index.html*"
   ]
  },
  {
   "cell_type": "markdown",
   "id": "48188454",
   "metadata": {},
   "source": [
    "In this notebook, we present how to build predictive models on tabular datasets, with only numerical features.\n",
    "\n",
    "- the scikit-learn API: .fit(X, y)/.predict(X)/.score(X, y);\n",
    "- how to evaluate the generalization performance of a model with a train-test split."
   ]
  },
  {
   "cell_type": "markdown",
   "id": "e4298253",
   "metadata": {},
   "source": [
    "# Loading the dataset with Pandas\n",
    "\n",
    "Numerical data is the most natural type of data used in machine learning and can (almost) directly be fed into predictive models. We will load a subset of the original data with only the numerical columns."
   ]
  },
  {
   "cell_type": "code",
   "execution_count": 3,
   "id": "122308de",
   "metadata": {},
   "outputs": [],
   "source": [
    "import pandas as pd\n",
    "\n",
    "adult_census = pd.read_csv(\"../../datasets/adult-census-numeric.csv\")"
   ]
  },
  {
   "cell_type": "code",
   "execution_count": 3,
   "id": "b20d82c4",
   "metadata": {},
   "outputs": [
    {
     "data": {
      "text/html": [
       "<div>\n",
       "<style scoped>\n",
       "    .dataframe tbody tr th:only-of-type {\n",
       "        vertical-align: middle;\n",
       "    }\n",
       "\n",
       "    .dataframe tbody tr th {\n",
       "        vertical-align: top;\n",
       "    }\n",
       "\n",
       "    .dataframe thead th {\n",
       "        text-align: right;\n",
       "    }\n",
       "</style>\n",
       "<table border=\"1\" class=\"dataframe\">\n",
       "  <thead>\n",
       "    <tr style=\"text-align: right;\">\n",
       "      <th></th>\n",
       "      <th>age</th>\n",
       "      <th>capital-gain</th>\n",
       "      <th>capital-loss</th>\n",
       "      <th>hours-per-week</th>\n",
       "      <th>class</th>\n",
       "    </tr>\n",
       "  </thead>\n",
       "  <tbody>\n",
       "    <tr>\n",
       "      <th>0</th>\n",
       "      <td>41</td>\n",
       "      <td>0</td>\n",
       "      <td>0</td>\n",
       "      <td>92</td>\n",
       "      <td>&lt;=50K</td>\n",
       "    </tr>\n",
       "    <tr>\n",
       "      <th>1</th>\n",
       "      <td>48</td>\n",
       "      <td>0</td>\n",
       "      <td>0</td>\n",
       "      <td>40</td>\n",
       "      <td>&lt;=50K</td>\n",
       "    </tr>\n",
       "    <tr>\n",
       "      <th>2</th>\n",
       "      <td>60</td>\n",
       "      <td>0</td>\n",
       "      <td>0</td>\n",
       "      <td>25</td>\n",
       "      <td>&lt;=50K</td>\n",
       "    </tr>\n",
       "    <tr>\n",
       "      <th>3</th>\n",
       "      <td>37</td>\n",
       "      <td>0</td>\n",
       "      <td>0</td>\n",
       "      <td>45</td>\n",
       "      <td>&lt;=50K</td>\n",
       "    </tr>\n",
       "    <tr>\n",
       "      <th>4</th>\n",
       "      <td>73</td>\n",
       "      <td>3273</td>\n",
       "      <td>0</td>\n",
       "      <td>40</td>\n",
       "      <td>&lt;=50K</td>\n",
       "    </tr>\n",
       "  </tbody>\n",
       "</table>\n",
       "</div>"
      ],
      "text/plain": [
       "   age  capital-gain  capital-loss  hours-per-week   class\n",
       "0   41             0             0              92   <=50K\n",
       "1   48             0             0              40   <=50K\n",
       "2   60             0             0              25   <=50K\n",
       "3   37             0             0              45   <=50K\n",
       "4   73          3273             0              40   <=50K"
      ]
     },
     "execution_count": 3,
     "metadata": {},
     "output_type": "execute_result"
    }
   ],
   "source": [
    "adult_census.head()"
   ]
  },
  {
   "cell_type": "markdown",
   "id": "e4a4b026",
   "metadata": {},
   "source": [
    "# Separate the data and the target"
   ]
  },
  {
   "cell_type": "code",
   "execution_count": 5,
   "id": "482e42de",
   "metadata": {},
   "outputs": [
    {
     "data": {
      "text/plain": [
       "0         <=50K\n",
       "1         <=50K\n",
       "2         <=50K\n",
       "3         <=50K\n",
       "4         <=50K\n",
       "          ...  \n",
       "39068     <=50K\n",
       "39069     <=50K\n",
       "39070      >50K\n",
       "39071     <=50K\n",
       "39072      >50K\n",
       "Name: class, Length: 39073, dtype: object"
      ]
     },
     "execution_count": 5,
     "metadata": {},
     "output_type": "execute_result"
    }
   ],
   "source": [
    "target_name = \"class\"\n",
    "target = adult_census[target_name]\n",
    "target"
   ]
  },
  {
   "cell_type": "code",
   "execution_count": 7,
   "id": "cc2bb020",
   "metadata": {},
   "outputs": [
    {
     "data": {
      "text/html": [
       "<div>\n",
       "<style scoped>\n",
       "    .dataframe tbody tr th:only-of-type {\n",
       "        vertical-align: middle;\n",
       "    }\n",
       "\n",
       "    .dataframe tbody tr th {\n",
       "        vertical-align: top;\n",
       "    }\n",
       "\n",
       "    .dataframe thead th {\n",
       "        text-align: right;\n",
       "    }\n",
       "</style>\n",
       "<table border=\"1\" class=\"dataframe\">\n",
       "  <thead>\n",
       "    <tr style=\"text-align: right;\">\n",
       "      <th></th>\n",
       "      <th>age</th>\n",
       "      <th>capital-gain</th>\n",
       "      <th>capital-loss</th>\n",
       "      <th>hours-per-week</th>\n",
       "    </tr>\n",
       "  </thead>\n",
       "  <tbody>\n",
       "    <tr>\n",
       "      <th>0</th>\n",
       "      <td>41</td>\n",
       "      <td>0</td>\n",
       "      <td>0</td>\n",
       "      <td>92</td>\n",
       "    </tr>\n",
       "    <tr>\n",
       "      <th>1</th>\n",
       "      <td>48</td>\n",
       "      <td>0</td>\n",
       "      <td>0</td>\n",
       "      <td>40</td>\n",
       "    </tr>\n",
       "    <tr>\n",
       "      <th>2</th>\n",
       "      <td>60</td>\n",
       "      <td>0</td>\n",
       "      <td>0</td>\n",
       "      <td>25</td>\n",
       "    </tr>\n",
       "    <tr>\n",
       "      <th>3</th>\n",
       "      <td>37</td>\n",
       "      <td>0</td>\n",
       "      <td>0</td>\n",
       "      <td>45</td>\n",
       "    </tr>\n",
       "    <tr>\n",
       "      <th>4</th>\n",
       "      <td>73</td>\n",
       "      <td>3273</td>\n",
       "      <td>0</td>\n",
       "      <td>40</td>\n",
       "    </tr>\n",
       "  </tbody>\n",
       "</table>\n",
       "</div>"
      ],
      "text/plain": [
       "   age  capital-gain  capital-loss  hours-per-week\n",
       "0   41             0             0              92\n",
       "1   48             0             0              40\n",
       "2   60             0             0              25\n",
       "3   37             0             0              45\n",
       "4   73          3273             0              40"
      ]
     },
     "execution_count": 7,
     "metadata": {},
     "output_type": "execute_result"
    }
   ],
   "source": [
    "data = adult_census.drop(columns=[target_name, ])\n",
    "data.head()"
   ]
  },
  {
   "cell_type": "markdown",
   "id": "04d9e323",
   "metadata": {},
   "source": [
    "We can now linger on the variables, also denominated features, that we will use to build our predictive model. In addition, we can also check how many samples are available in our dataset."
   ]
  },
  {
   "cell_type": "code",
   "execution_count": 9,
   "id": "cfa977e5",
   "metadata": {},
   "outputs": [
    {
     "data": {
      "text/plain": [
       "Index(['age', 'capital-gain', 'capital-loss', 'hours-per-week'], dtype='object')"
      ]
     },
     "execution_count": 9,
     "metadata": {},
     "output_type": "execute_result"
    }
   ],
   "source": [
    "data.columns"
   ]
  },
  {
   "cell_type": "code",
   "execution_count": 11,
   "id": "40c5025a",
   "metadata": {},
   "outputs": [
    {
     "name": "stdout",
     "output_type": "stream",
     "text": [
      "The dataset contains 39073 samples and 4 features\n"
     ]
    }
   ],
   "source": [
    "print(f\"The dataset contains {data.shape[0]} samples and \"\n",
    "      f\"{data.shape[1]} features\")"
   ]
  },
  {
   "cell_type": "markdown",
   "id": "34be15ca",
   "metadata": {},
   "source": [
    "# Fit a model and make predictions\n",
    "We will build a classification model using the “K-nearest neighbors” strategy. To predict the target of a new sample, a k-nearest neighbors takes into account its k closest samples in the training set and predicts the majority target of these samples."
   ]
  },
  {
   "cell_type": "code",
   "execution_count": 13,
   "id": "34570bc6",
   "metadata": {},
   "outputs": [],
   "source": [
    "from sklearn.neighbors import KNeighborsClassifier\n",
    "\n",
    "model = KNeighborsClassifier()\n",
    "_ = model.fit(data, target)"
   ]
  },
  {
   "cell_type": "markdown",
   "id": "e1b32514",
   "metadata": {},
   "source": []
  },
  {
   "attachments": {
    "image.png": {
     "image/png": "[encoded data removed]"
    }
   },
   "cell_type": "markdown",
   "id": "23b256c5",
   "metadata": {},
   "source": [
    "**Learning can be represented as follows:**\n",
    "\n",
    "![image.png](attachment:image.png)\n",
    "\n",
    "The method fit is composed of two elements: (i) a learning algorithm and (ii) some model states. The learning algorithm takes the training data and training target as input and sets the model states. These model states will be used later to either predict (for classifiers and regressors) or transform data (for transformers)."
   ]
  },
  {
   "cell_type": "markdown",
   "id": "36721f4f",
   "metadata": {},
   "source": [
    "Let’s use our model to make some predictions using the same dataset."
   ]
  },
  {
   "cell_type": "code",
   "execution_count": 15,
   "id": "b993c4ce",
   "metadata": {},
   "outputs": [],
   "source": [
    "target_predicted = model.predict(data)"
   ]
  },
  {
   "attachments": {
    "image.png": {
     "image/png": "[encoded data removed]"
    }
   },
   "cell_type": "markdown",
   "id": "3289f773",
   "metadata": {},
   "source": [
    "We can illustrate the prediction mechanism as follows:\n",
    "\n",
    "![image.png](attachment:image.png)\n",
    "\n",
    "To predict, a model uses a prediction function that will use the input data together with the model states. As for the learning algorithm and the model states, the prediction function is specific for each type of model."
   ]
  },
  {
   "cell_type": "code",
   "execution_count": 20,
   "id": "ba23e377",
   "metadata": {},
   "outputs": [
    {
     "data": {
      "text/plain": [
       "array([' >50K', ' <=50K', ' <=50K', ' <=50K', ' <=50K'], dtype=object)"
      ]
     },
     "execution_count": 20,
     "metadata": {},
     "output_type": "execute_result"
    }
   ],
   "source": [
    "# Let’s now have a look at the computed predictions. \n",
    "# For the sake of simplicity, we will look at the five first predicted targets.\n",
    "target_predicted[:5]"
   ]
  },
  {
   "cell_type": "code",
   "execution_count": 21,
   "id": "3b24d1ef",
   "metadata": {},
   "outputs": [
    {
     "data": {
      "text/plain": [
       "0     <=50K\n",
       "1     <=50K\n",
       "2     <=50K\n",
       "3     <=50K\n",
       "4     <=50K\n",
       "Name: class, dtype: object"
      ]
     },
     "execution_count": 21,
     "metadata": {},
     "output_type": "execute_result"
    }
   ],
   "source": [
    "# Indeed, we can compare these predictions to the actual data…\n",
    "\n",
    "target[:5]"
   ]
  },
  {
   "cell_type": "code",
   "execution_count": 22,
   "id": "f1a83adb",
   "metadata": {},
   "outputs": [
    {
     "data": {
      "text/plain": [
       "0    False\n",
       "1     True\n",
       "2     True\n",
       "3     True\n",
       "4     True\n",
       "Name: class, dtype: bool"
      ]
     },
     "execution_count": 22,
     "metadata": {},
     "output_type": "execute_result"
    }
   ],
   "source": [
    "# …and we could even check if the predictions agree with the real targets:\n",
    "\n",
    "target[:5] == target_predicted[:5]"
   ]
  },
  {
   "cell_type": "code",
   "execution_count": 24,
   "id": "f3447890",
   "metadata": {},
   "outputs": [
    {
     "name": "stdout",
     "output_type": "stream",
     "text": [
      "Number of correct prediction: 4 / 5\n"
     ]
    }
   ],
   "source": [
    "print(f\"Number of correct prediction: \"\n",
    "      f\"{(target[:5] == target_predicted[:5]).sum()} / 5\")"
   ]
  },
  {
   "cell_type": "markdown",
   "id": "d003224f",
   "metadata": {},
   "source": [
    "**To get a better assessment, we can compute the average success rate.**"
   ]
  },
  {
   "cell_type": "code",
   "execution_count": 26,
   "id": "14175f8c",
   "metadata": {},
   "outputs": [
    {
     "data": {
      "text/plain": [
       "0.8238169580016892"
      ]
     },
     "execution_count": 26,
     "metadata": {},
     "output_type": "execute_result"
    }
   ],
   "source": [
    "(target == target_predicted).mean()"
   ]
  },
  {
   "cell_type": "markdown",
   "id": "ce529e58",
   "metadata": {},
   "source": [
    "This result means that the model makes a correct prediction for approximately 82 samples out of 100. Note that we used the same data to train and evaluate our model. Can this evaluation be trusted or is it too good to be true?"
   ]
  },
  {
   "cell_type": "markdown",
   "id": "847852c2",
   "metadata": {},
   "source": [
    "# Train-test data split\n",
    "\n",
    "When building a machine learning model, it is important to evaluate the trained model on data that was not used to fit it, as generalization is more than memorization (meaning we want a rule that generalizes to new data, without comparing to data we memorized). It is harder to conclude on never-seen instances than on already seen ones.\n",
    "\n",
    "Correct evaluation is easily done by leaving out a subset of the data when training the model and using it afterwards for model evaluation. The data used to fit a model is called training data while the data used to assess a model is called testing data."
   ]
  },
  {
   "cell_type": "code",
   "execution_count": 28,
   "id": "e705b8c9",
   "metadata": {},
   "outputs": [],
   "source": [
    "adult_census_test = pd.read_csv('../datasets/adult-census-numeric-test.csv')"
   ]
  },
  {
   "cell_type": "code",
   "execution_count": 35,
   "id": "344cf4c0",
   "metadata": {},
   "outputs": [],
   "source": [
    "target_test = adult_census_test[target_name]\n",
    "data_test = adult_census_test.drop(columns=[target_name, ])"
   ]
  },
  {
   "cell_type": "code",
   "execution_count": 38,
   "id": "aa25f507",
   "metadata": {},
   "outputs": [
    {
     "data": {
      "text/plain": [
       "0     <=50K\n",
       "1      >50K\n",
       "2      >50K\n",
       "3     <=50K\n",
       "4     <=50K\n",
       "Name: class, dtype: object"
      ]
     },
     "execution_count": 38,
     "metadata": {},
     "output_type": "execute_result"
    }
   ],
   "source": [
    "target_test.head()"
   ]
  },
  {
   "cell_type": "code",
   "execution_count": 39,
   "id": "81b6142e",
   "metadata": {},
   "outputs": [
    {
     "data": {
      "text/html": [
       "<div>\n",
       "<style scoped>\n",
       "    .dataframe tbody tr th:only-of-type {\n",
       "        vertical-align: middle;\n",
       "    }\n",
       "\n",
       "    .dataframe tbody tr th {\n",
       "        vertical-align: top;\n",
       "    }\n",
       "\n",
       "    .dataframe thead th {\n",
       "        text-align: right;\n",
       "    }\n",
       "</style>\n",
       "<table border=\"1\" class=\"dataframe\">\n",
       "  <thead>\n",
       "    <tr style=\"text-align: right;\">\n",
       "      <th></th>\n",
       "      <th>age</th>\n",
       "      <th>capital-gain</th>\n",
       "      <th>capital-loss</th>\n",
       "      <th>hours-per-week</th>\n",
       "    </tr>\n",
       "  </thead>\n",
       "  <tbody>\n",
       "    <tr>\n",
       "      <th>0</th>\n",
       "      <td>20</td>\n",
       "      <td>0</td>\n",
       "      <td>0</td>\n",
       "      <td>35</td>\n",
       "    </tr>\n",
       "    <tr>\n",
       "      <th>1</th>\n",
       "      <td>53</td>\n",
       "      <td>0</td>\n",
       "      <td>0</td>\n",
       "      <td>72</td>\n",
       "    </tr>\n",
       "    <tr>\n",
       "      <th>2</th>\n",
       "      <td>41</td>\n",
       "      <td>0</td>\n",
       "      <td>0</td>\n",
       "      <td>50</td>\n",
       "    </tr>\n",
       "    <tr>\n",
       "      <th>3</th>\n",
       "      <td>20</td>\n",
       "      <td>0</td>\n",
       "      <td>0</td>\n",
       "      <td>40</td>\n",
       "    </tr>\n",
       "    <tr>\n",
       "      <th>4</th>\n",
       "      <td>25</td>\n",
       "      <td>0</td>\n",
       "      <td>0</td>\n",
       "      <td>40</td>\n",
       "    </tr>\n",
       "  </tbody>\n",
       "</table>\n",
       "</div>"
      ],
      "text/plain": [
       "   age  capital-gain  capital-loss  hours-per-week\n",
       "0   20             0             0              35\n",
       "1   53             0             0              72\n",
       "2   41             0             0              50\n",
       "3   20             0             0              40\n",
       "4   25             0             0              40"
      ]
     },
     "execution_count": 39,
     "metadata": {},
     "output_type": "execute_result"
    }
   ],
   "source": [
    "data_test.head()"
   ]
  },
  {
   "cell_type": "code",
   "execution_count": 32,
   "id": "b029dcc8",
   "metadata": {},
   "outputs": [
    {
     "name": "stdout",
     "output_type": "stream",
     "text": [
      "The testing dataset contains 9769 samples and 4 features\n"
     ]
    }
   ],
   "source": [
    "# We can check the number of features and samples available in this new set.\n",
    "\n",
    "print(f\"The testing dataset contains {data_test.shape[0]} samples and \"\n",
    "      f\"{data_test.shape[1]} features\")"
   ]
  },
  {
   "cell_type": "markdown",
   "id": "8fdcb817",
   "metadata": {},
   "source": [
    "Instead of computing the prediction and manually computing the average success rate, we can use the method **score.**"
   ]
  },
  {
   "cell_type": "code",
   "execution_count": 34,
   "id": "d2e322f3",
   "metadata": {},
   "outputs": [
    {
     "name": "stdout",
     "output_type": "stream",
     "text": [
      "The test accuracy using a KNeighborsClassifier is 0.807\n"
     ]
    }
   ],
   "source": [
    "accuracy = model.score(data_test, target_test)\n",
    "model_name = model.__class__.__name__\n",
    "\n",
    "print(f\"The test accuracy using a {model_name} is \"\n",
    "      f\"{accuracy:.3f}\")"
   ]
  },
  {
   "attachments": {
    "image.png": {
     "image/png": "[encoded data removed]"
    }
   },
   "cell_type": "markdown",
   "id": "d2850d9a",
   "metadata": {},
   "source": [
    "Let’s check the underlying mechanism when the score method is called:\n",
    "\n",
    "![image.png](attachment:image.png)\n",
    "\n",
    "To compute the score, the predictor first computes the predictions (using the predict method) and then uses a scoring function to compare the true target y and the predictions. Finally, the score is returned."
   ]
  },
  {
   "cell_type": "code",
   "execution_count": null,
   "id": "c4d5ce85",
   "metadata": {},
   "outputs": [],
   "source": [
    "\n"
   ]
  }
 ],
 "metadata": {
  "kernelspec": {
   "display_name": "Python 3 (ipykernel)",
   "language": "python",
   "name": "python3"
  },
  "language_info": {
   "codemirror_mode": {
    "name": "ipython",
    "version": 3
   },
   "file_extension": ".py",
   "mimetype": "text/x-python",
   "name": "python",
   "nbconvert_exporter": "python",
   "pygments_lexer": "ipython3",
   "version": "3.9.13"
  }
 },
 "nbformat": 4,
 "nbformat_minor": 5
}

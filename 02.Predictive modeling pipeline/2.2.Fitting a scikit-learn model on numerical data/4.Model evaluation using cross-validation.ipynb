{
 "cells": [
  {
   "cell_type": "markdown",
   "id": "8545b7b5",
   "metadata": {},
   "source": [
    "*ref: https://inria.github.io/scikit-learn-mooc/python_scripts/02_numerical_pipeline_cross_validation.html*"
   ]
  },
  {
   "cell_type": "markdown",
   "id": "444acfd4",
   "metadata": {},
   "source": [
    "We will discuss the practical aspects of assessing the generalization performance of our model via cross-validation instead of a single train-test split."
   ]
  },
  {
   "cell_type": "markdown",
   "id": "8c42a6cc",
   "metadata": {},
   "source": [
    "# Validation of a model\n",
    "\n",
    "https://www.youtube.com/watch?v=kLWvI9fSnKc&t=51s"
   ]
  },
  {
   "cell_type": "markdown",
   "id": "a170630e",
   "metadata": {},
   "source": [
    "# Data preparation"
   ]
  },
  {
   "cell_type": "code",
   "execution_count": 3,
   "id": "8a538cae",
   "metadata": {},
   "outputs": [],
   "source": [
    "import pandas as pd\n",
    "\n",
    "adult_census = pd.read_csv(\"../../datasets/adult-census.csv\")"
   ]
  },
  {
   "cell_type": "code",
   "execution_count": 4,
   "id": "79ac4fee",
   "metadata": {},
   "outputs": [],
   "source": [
    "target_name = \"class\"\n",
    "target = adult_census[target_name]\n",
    "data = adult_census.drop(columns=target_name)"
   ]
  },
  {
   "cell_type": "code",
   "execution_count": 6,
   "id": "75876f1e",
   "metadata": {},
   "outputs": [],
   "source": [
    "numerical_columns = [\"age\", \"capital-gain\", \"capital-loss\", \"hours-per-week\"]\n",
    "data_numeric = data[numerical_columns]"
   ]
  },
  {
   "cell_type": "code",
   "execution_count": 9,
   "id": "b202c5df",
   "metadata": {},
   "outputs": [],
   "source": [
    "# We can now create a model using the make_pipeline tool to chain the preprocessing and\n",
    "# the estimator in every iteration of the cross-validation.\n",
    "\n",
    "from sklearn.preprocessing import StandardScaler\n",
    "from sklearn.linear_model import LogisticRegression\n",
    "from sklearn.pipeline import make_pipeline\n",
    "\n",
    "model = make_pipeline(StandardScaler(), LogisticRegression())"
   ]
  },
  {
   "cell_type": "markdown",
   "id": "bea39a24",
   "metadata": {},
   "source": [
    "# Cross-validation\n",
    "the function cross_validate allows to do cross-validation and you need to pass it the model, the data, and the target."
   ]
  },
  {
   "cell_type": "code",
   "execution_count": 11,
   "id": "12aff9e1",
   "metadata": {},
   "outputs": [
    {
     "name": "stdout",
     "output_type": "stream",
     "text": [
      "CPU times: total: 562 ms\n",
      "Wall time: 563 ms\n"
     ]
    },
    {
     "data": {
      "text/plain": [
       "{'fit_time': array([0.07860184, 0.07812262, 0.07807779, 0.09371614, 0.07809162]),\n",
       " 'score_time': array([0.01562452, 0.01563954, 0.0156579 , 0.01565933, 0.01721191]),\n",
       " 'test_score': array([0.79557785, 0.80049135, 0.79965192, 0.79873055, 0.80436118])}"
      ]
     },
     "execution_count": 11,
     "metadata": {},
     "output_type": "execute_result"
    }
   ],
   "source": [
    "%%time\n",
    "from sklearn.model_selection import cross_validate\n",
    "\n",
    "model = make_pipeline(StandardScaler(), LogisticRegression())\n",
    "cv_result = cross_validate(model, data_numeric, target, cv=5)\n",
    "cv_result"
   ]
  },
  {
   "cell_type": "markdown",
   "id": "6405bd01",
   "metadata": {},
   "source": [
    "The output of cross_validate is a Python dictionary, which by default contains three entries:\n",
    "\n",
    "- (i) the time to train the model on the training data for each fold, fit_time\n",
    "- (ii) the time to predict with the model on the testing data for each fold, score_time\n",
    "- (iii) the default score on the testing data for each fold, test_score."
   ]
  },
  {
   "cell_type": "code",
   "execution_count": 12,
   "id": "d256139e",
   "metadata": {},
   "outputs": [
    {
     "name": "stdout",
     "output_type": "stream",
     "text": [
      "The mean cross-validation accuracy is: 0.800 ± 0.003\n"
     ]
    }
   ],
   "source": [
    "# Let’s extract the scores computed on the test fold of each cross-validation round from the cv_result dictionary and compute the mean accuracy and the variation of the accuracy across folds.\n",
    "\n",
    "scores = cv_result[\"test_score\"]\n",
    "print(\n",
    "    \"The mean cross-validation accuracy is: \"\n",
    "    f\"{scores.mean():.3f} ± {scores.std():.3f}\"\n",
    ")"
   ]
  }
 ],
 "metadata": {
  "kernelspec": {
   "display_name": "Python 3 (ipykernel)",
   "language": "python",
   "name": "python3"
  },
  "language_info": {
   "codemirror_mode": {
    "name": "ipython",
    "version": 3
   },
   "file_extension": ".py",
   "mimetype": "text/x-python",
   "name": "python",
   "nbconvert_exporter": "python",
   "pygments_lexer": "ipython3",
   "version": "3.9.13"
  }
 },
 "nbformat": 4,
 "nbformat_minor": 5
}

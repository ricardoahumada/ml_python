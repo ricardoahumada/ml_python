{
 "cells": [
  {
   "cell_type": "markdown",
   "id": "1eaeb61c",
   "metadata": {},
   "source": [
    "# Wrap-up\n",
    "In this module, you learned:\n",
    "\n",
    "- to create a scikit-learn predictive model;\n",
    "- about the scikit-learn API to train and test a predictive model;\n",
    "- to process numerical data, notably using a Pipeline.\n",
    "- to process categorical data, notably using a OneHotEncoder and an OrdinalEncoder;\n",
    "- to handle and process mixed data types (i.e. numerical and categorical data), notably using a ColumnTransformer."
   ]
  },
  {
   "cell_type": "code",
   "execution_count": null,
   "id": "37253928",
   "metadata": {},
   "outputs": [],
   "source": []
  }
 ],
 "metadata": {
  "kernelspec": {
   "display_name": "Python 3 (ipykernel)",
   "language": "python",
   "name": "python3"
  },
  "language_info": {
   "codemirror_mode": {
    "name": "ipython",
    "version": 3
   },
   "file_extension": ".py",
   "mimetype": "text/x-python",
   "name": "python",
   "nbconvert_exporter": "python",
   "pygments_lexer": "ipython3",
   "version": "3.9.13"
  }
 },
 "nbformat": 4,
 "nbformat_minor": 5
}

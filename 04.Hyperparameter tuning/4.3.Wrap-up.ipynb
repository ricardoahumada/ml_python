{
 "cells": [
  {
   "cell_type": "markdown",
   "id": "cd92b7c7",
   "metadata": {},
   "source": [
    "# Wrap-up\n",
    "Hyperparameters have an impact on the models’ performance and should be wisely chosen;\n",
    "\n",
    "- The search for the best hyperparameters can be automated with a grid-search approach or a randomized search approach;\n",
    "- A **grid-search** is expensive and does not scale when the number of hyperparameters to optimize increase. Besides, the combination are sampled only on a regular grid.\n",
    "- A **randomized-search** allows a search with a fixed budget even with an increasing number of hyperparameters. Besides, the combination are sampled on a non-regular grid."
   ]
  },
  {
   "cell_type": "code",
   "execution_count": null,
   "id": "3b05e606",
   "metadata": {},
   "outputs": [],
   "source": []
  }
 ],
 "metadata": {
  "kernelspec": {
   "display_name": "Python 3 (ipykernel)",
   "language": "python",
   "name": "python3"
  },
  "language_info": {
   "codemirror_mode": {
    "name": "ipython",
    "version": 3
   },
   "file_extension": ".py",
   "mimetype": "text/x-python",
   "name": "python",
   "nbconvert_exporter": "python",
   "pygments_lexer": "ipython3",
   "version": "3.9.13"
  }
 },
 "nbformat": 4,
 "nbformat_minor": 5
}

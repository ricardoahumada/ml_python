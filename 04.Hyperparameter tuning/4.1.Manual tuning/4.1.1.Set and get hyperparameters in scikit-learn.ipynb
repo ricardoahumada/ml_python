{
 "cells": [
  {
   "cell_type": "markdown",
   "id": "05d37fad",
   "metadata": {},
   "source": [
    "*ref: https://inria.github.io/scikit-learn-mooc/python_scripts/parameter_tuning_manual.html*"
   ]
  },
  {
   "cell_type": "markdown",
   "id": "f7047582",
   "metadata": {},
   "source": [
    "The process of learning a predictive model is driven by a set of internal parameters and a set of training data. \n",
    "\n",
    "These internal parameters are called **hyperparameters** and are specific for each family of models. \n",
    "\n",
    "In addition, a specific set of hyperparameters are optimal for a specific dataset and thus they need to be optimized."
   ]
  },
  {
   "cell_type": "code",
   "execution_count": 1,
   "id": "170b7c25",
   "metadata": {},
   "outputs": [],
   "source": [
    "# We will start by loading the adult census dataset and only use the numerical features.\n",
    "\n",
    "import pandas as pd\n",
    "\n",
    "adult_census = pd.read_csv(\"../../datasets/adult-census.csv\")\n",
    "\n",
    "target_name = \"class\"\n",
    "numerical_columns = [\n",
    "    \"age\", \"capital-gain\", \"capital-loss\", \"hours-per-week\"]\n",
    "\n",
    "target = adult_census[target_name]\n",
    "data = adult_census[numerical_columns]"
   ]
  },
  {
   "cell_type": "code",
   "execution_count": 2,
   "id": "a798d5b1",
   "metadata": {},
   "outputs": [
    {
     "data": {
      "text/html": [
       "<div>\n",
       "<style scoped>\n",
       "    .dataframe tbody tr th:only-of-type {\n",
       "        vertical-align: middle;\n",
       "    }\n",
       "\n",
       "    .dataframe tbody tr th {\n",
       "        vertical-align: top;\n",
       "    }\n",
       "\n",
       "    .dataframe thead th {\n",
       "        text-align: right;\n",
       "    }\n",
       "</style>\n",
       "<table border=\"1\" class=\"dataframe\">\n",
       "  <thead>\n",
       "    <tr style=\"text-align: right;\">\n",
       "      <th></th>\n",
       "      <th>age</th>\n",
       "      <th>capital-gain</th>\n",
       "      <th>capital-loss</th>\n",
       "      <th>hours-per-week</th>\n",
       "    </tr>\n",
       "  </thead>\n",
       "  <tbody>\n",
       "    <tr>\n",
       "      <th>0</th>\n",
       "      <td>25</td>\n",
       "      <td>0</td>\n",
       "      <td>0</td>\n",
       "      <td>40</td>\n",
       "    </tr>\n",
       "    <tr>\n",
       "      <th>1</th>\n",
       "      <td>38</td>\n",
       "      <td>0</td>\n",
       "      <td>0</td>\n",
       "      <td>50</td>\n",
       "    </tr>\n",
       "    <tr>\n",
       "      <th>2</th>\n",
       "      <td>28</td>\n",
       "      <td>0</td>\n",
       "      <td>0</td>\n",
       "      <td>40</td>\n",
       "    </tr>\n",
       "    <tr>\n",
       "      <th>3</th>\n",
       "      <td>44</td>\n",
       "      <td>7688</td>\n",
       "      <td>0</td>\n",
       "      <td>40</td>\n",
       "    </tr>\n",
       "    <tr>\n",
       "      <th>4</th>\n",
       "      <td>18</td>\n",
       "      <td>0</td>\n",
       "      <td>0</td>\n",
       "      <td>30</td>\n",
       "    </tr>\n",
       "  </tbody>\n",
       "</table>\n",
       "</div>"
      ],
      "text/plain": [
       "   age  capital-gain  capital-loss  hours-per-week\n",
       "0   25             0             0              40\n",
       "1   38             0             0              50\n",
       "2   28             0             0              40\n",
       "3   44          7688             0              40\n",
       "4   18             0             0              30"
      ]
     },
     "execution_count": 2,
     "metadata": {},
     "output_type": "execute_result"
    }
   ],
   "source": [
    "# Our data is only numerical.\n",
    "\n",
    "data.head()"
   ]
  },
  {
   "cell_type": "code",
   "execution_count": 3,
   "id": "5cbb466f",
   "metadata": {},
   "outputs": [],
   "source": [
    "# Let’s create a simple predictive model made of a scaler followed by a logistic regression classifier.\n",
    "\n",
    "from sklearn.pipeline import Pipeline\n",
    "from sklearn.preprocessing import StandardScaler\n",
    "from sklearn.linear_model import LogisticRegression\n",
    "\n",
    "model = Pipeline(steps=[\n",
    "    (\"preprocessor\", StandardScaler()),\n",
    "    (\"classifier\", LogisticRegression())\n",
    "])"
   ]
  },
  {
   "cell_type": "code",
   "execution_count": 4,
   "id": "599b7ec4",
   "metadata": {},
   "outputs": [
    {
     "name": "stdout",
     "output_type": "stream",
     "text": [
      "Accuracy score via cross-validation:\n",
      "0.800 ± 0.003\n"
     ]
    }
   ],
   "source": [
    "# We can evaluate the generalization performance of the model via cross-validation.\n",
    "\n",
    "from sklearn.model_selection import cross_validate\n",
    "\n",
    "cv_results = cross_validate(model, data, target)\n",
    "scores = cv_results[\"test_score\"]\n",
    "print(f\"Accuracy score via cross-validation:\\n\"\n",
    "      f\"{scores.mean():.3f} ± {scores.std():.3f}\")"
   ]
  },
  {
   "cell_type": "markdown",
   "id": "50401a5f",
   "metadata": {},
   "source": [
    "We created a model with the **default C value that is equal to 1**. \n",
    "\n",
    "If we wanted to use a different C parameter we could have done so when we created the LogisticRegression object with something like LogisticRegression(C=1e-3)."
   ]
  },
  {
   "cell_type": "code",
   "execution_count": 5,
   "id": "2a54929d",
   "metadata": {},
   "outputs": [
    {
     "name": "stdout",
     "output_type": "stream",
     "text": [
      "Accuracy score via cross-validation:\n",
      "0.787 ± 0.002\n"
     ]
    }
   ],
   "source": [
    "# We can also change the parameter of a model after it has been created with the set_params method, which is available for all scikit-learn estimators. For example, we can set C=1e-3, fit and evaluate the model:\n",
    "\n",
    "model.set_params(classifier__C=1e-3)\n",
    "cv_results = cross_validate(model, data, target)\n",
    "scores = cv_results[\"test_score\"]\n",
    "print(f\"Accuracy score via cross-validation:\\n\"\n",
    "      f\"{scores.mean():.3f} ± {scores.std():.3f}\")"
   ]
  },
  {
   "cell_type": "markdown",
   "id": "2ca78c54",
   "metadata": {},
   "source": [
    "When the model of interest is a Pipeline, the parameter names are of the form `<model_name>__<parameter_name>` (note the double underscore in the middle). \n",
    "\n",
    "In our case, classifier comes from the Pipeline definition and C is the parameter name of LogisticRegression."
   ]
  },
  {
   "cell_type": "code",
   "execution_count": 7,
   "id": "10fc8898",
   "metadata": {},
   "outputs": [
    {
     "name": "stdout",
     "output_type": "stream",
     "text": [
      "memory\n",
      "steps\n",
      "verbose\n",
      "preprocessor\n",
      "classifier\n",
      "preprocessor__copy\n",
      "preprocessor__with_mean\n",
      "preprocessor__with_std\n",
      "classifier__C\n",
      "classifier__class_weight\n",
      "classifier__dual\n",
      "classifier__fit_intercept\n",
      "classifier__intercept_scaling\n",
      "classifier__l1_ratio\n",
      "classifier__max_iter\n",
      "classifier__multi_class\n",
      "classifier__n_jobs\n",
      "classifier__penalty\n",
      "classifier__random_state\n",
      "classifier__solver\n",
      "classifier__tol\n",
      "classifier__verbose\n",
      "classifier__warm_start\n"
     ]
    }
   ],
   "source": [
    "# In general, you can use the get_params method on scikit-learn models to list \n",
    "# all the parameters with their values. \n",
    "# For example, if you want to get all the parameter names, you can use:\n",
    "\n",
    "for parameter in model.get_params():\n",
    "    print(parameter)"
   ]
  },
  {
   "cell_type": "code",
   "execution_count": 8,
   "id": "c8d1cba2",
   "metadata": {},
   "outputs": [
    {
     "data": {
      "text/plain": [
       "0.001"
      ]
     },
     "execution_count": 8,
     "metadata": {},
     "output_type": "execute_result"
    }
   ],
   "source": [
    "# If you want to get the value of a single parameter, for example classifier__C, you can use:\n",
    "\n",
    "model.get_params()['classifier__C']"
   ]
  },
  {
   "cell_type": "code",
   "execution_count": 9,
   "id": "432b3e6e",
   "metadata": {},
   "outputs": [
    {
     "name": "stdout",
     "output_type": "stream",
     "text": [
      "Accuracy score via cross-validation with C=0.001:\n",
      "0.787 ± 0.002\n",
      "Accuracy score via cross-validation with C=0.01:\n",
      "0.799 ± 0.003\n",
      "Accuracy score via cross-validation with C=0.1:\n",
      "0.800 ± 0.003\n",
      "Accuracy score via cross-validation with C=1:\n",
      "0.800 ± 0.003\n",
      "Accuracy score via cross-validation with C=10:\n",
      "0.800 ± 0.003\n"
     ]
    }
   ],
   "source": [
    "# We can systematically vary the value of C to see if there is an optimal value.\n",
    "\n",
    "for C in [1e-3, 1e-2, 1e-1, 1, 10]:\n",
    "    model.set_params(classifier__C=C)\n",
    "    cv_results = cross_validate(model, data, target)\n",
    "    scores = cv_results[\"test_score\"]\n",
    "    print(f\"Accuracy score via cross-validation with C={C}:\\n\"\n",
    "          f\"{scores.mean():.3f} ± {scores.std():.3f}\")"
   ]
  },
  {
   "cell_type": "markdown",
   "id": "41ed80d2",
   "metadata": {},
   "source": [
    "We can see that as long as C is high enough, the model seems to perform well."
   ]
  }
 ],
 "metadata": {
  "kernelspec": {
   "display_name": "Python 3 (ipykernel)",
   "language": "python",
   "name": "python3"
  },
  "language_info": {
   "codemirror_mode": {
    "name": "ipython",
    "version": 3
   },
   "file_extension": ".py",
   "mimetype": "text/x-python",
   "name": "python",
   "nbconvert_exporter": "python",
   "pygments_lexer": "ipython3",
   "version": "3.9.13"
  }
 },
 "nbformat": 4,
 "nbformat_minor": 5
}

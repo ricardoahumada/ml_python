{
 "cells": [
  {
   "cell_type": "markdown",
   "id": "f621513b",
   "metadata": {},
   "source": [
    "# Wrap-up\n",
    "\n",
    "In this module, we saw that:\n",
    "\n",
    "- the predictions of a linear model depend on a weighted sum of the values of the input features added to an intercept parameter;\n",
    "- fitting a linear model consists in adjusting both the weight coefficients and the intercept to minimize the prediction errors on the training set;\n",
    "- to train linear models successfully it is often required to scale the input features approximately to the same dynamic range;\n",
    "- regularization can be used to reduce over-fitting: weight coefficients are constrained to stay small when fitting;\n",
    "- the regularization hyperparameter needs to be fine-tuned by cross-validation for each new machine learning problem and dataset;\n",
    "- linear models can be used on problems where the target variable is not linearly related to the input features but this requires extra feature engineering work to transform the data in order to avoid under-fitting."
   ]
  },
  {
   "cell_type": "code",
   "execution_count": null,
   "id": "c018802a",
   "metadata": {},
   "outputs": [],
   "source": []
  }
 ],
 "metadata": {
  "kernelspec": {
   "display_name": "Python 3 (ipykernel)",
   "language": "python",
   "name": "python3"
  },
  "language_info": {
   "codemirror_mode": {
    "name": "ipython",
    "version": 3
   },
   "file_extension": ".py",
   "mimetype": "text/x-python",
   "name": "python",
   "nbconvert_exporter": "python",
   "pygments_lexer": "ipython3",
   "version": "3.9.13"
  }
 },
 "nbformat": 4,
 "nbformat_minor": 5
}

{
 "cells": [
  {
   "cell_type": "markdown",
   "id": "f621513b",
   "metadata": {},
   "source": [
    "# Wrap-up\n",
    "\n",
    "In this module, we presented decision trees in details. We saw that they:\n",
    "- are suited for both regression and classification problems;\n",
    "- are non-parametric models;\n",
    "- are not able to extrapolate;\n",
    "- are sensitive to hyperparameter tuning."
   ]
  },
  {
   "cell_type": "code",
   "execution_count": null,
   "id": "c018802a",
   "metadata": {},
   "outputs": [],
   "source": []
  }
 ],
 "metadata": {
  "kernelspec": {
   "display_name": "Python 3 (ipykernel)",
   "language": "python",
   "name": "python3"
  },
  "language_info": {
   "codemirror_mode": {
    "name": "ipython",
    "version": 3
   },
   "file_extension": ".py",
   "mimetype": "text/x-python",
   "name": "python",
   "nbconvert_exporter": "python",
   "pygments_lexer": "ipython3",
   "version": "3.9.13"
  }
 },
 "nbformat": 4,
 "nbformat_minor": 5
}

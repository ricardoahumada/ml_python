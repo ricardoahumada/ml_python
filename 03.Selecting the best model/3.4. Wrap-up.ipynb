{
 "cells": [
  {
   "cell_type": "markdown",
   "id": "f3e44e8c",
   "metadata": {},
   "source": [
    "# Wrap-up\n",
    "\n",
    "- Overfitting is caused by the limited size of the training set, the noise in the data, and the high flexibility of common machine learning models.\n",
    "- Underfitting happens when the learnt prediction functions suffer from systematic errors. This can be caused by a choice of model family and parameters, which leads to a lack of flexibility to capture the repeatable structure of the true data generating process.\n",
    "- For a fixed training set, the objective is to minimize the test error by adjusting the model family and its parameters to find the best trade-off between overfitting for underfitting.\n",
    "- For a given choice of model family and parameters, increasing the training set size will decrease overfitting but can also cause an increase of underfitting.\n",
    "- The test error of a model that is neither overfitting nor underfitting can still be high if the variations of the target variable cannot be fully determined by the input features. This irreducible error is caused by what we sometimes call label noise. In practice, this often happens when we do not have access to important features for one reason or another."
   ]
  }
 ],
 "metadata": {
  "kernelspec": {
   "display_name": "Python 3 (ipykernel)",
   "language": "python",
   "name": "python3"
  },
  "language_info": {
   "codemirror_mode": {
    "name": "ipython",
    "version": 3
   },
   "file_extension": ".py",
   "mimetype": "text/x-python",
   "name": "python",
   "nbconvert_exporter": "python",
   "pygments_lexer": "ipython3",
   "version": "3.9.13"
  }
 },
 "nbformat": 4,
 "nbformat_minor": 5
}

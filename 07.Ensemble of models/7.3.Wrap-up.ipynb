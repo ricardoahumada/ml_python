{
 "cells": [
  {
   "cell_type": "markdown",
   "id": "1ff0fa77",
   "metadata": {},
   "source": [
    "# Wrap-up\n",
    "We saw two strategies:\n",
    "\n",
    "- one based on bootstrap samples allowing learners to be fit in a parallel manner;\n",
    "\n",
    "- the other called boosting which fit learners sequentially.\n",
    "\n",
    "From these two families, we mainly focused on giving intuitions regarding the internal machinery of the random forest and gradient-boosting models which are state-of-the-art methods."
   ]
  }
 ],
 "metadata": {
  "kernelspec": {
   "display_name": "Python 3 (ipykernel)",
   "language": "python",
   "name": "python3"
  },
  "language_info": {
   "codemirror_mode": {
    "name": "ipython",
    "version": 3
   },
   "file_extension": ".py",
   "mimetype": "text/x-python",
   "name": "python",
   "nbconvert_exporter": "python",
   "pygments_lexer": "ipython3",
   "version": "3.9.13"
  }
 },
 "nbformat": 4,
 "nbformat_minor": 5
}
